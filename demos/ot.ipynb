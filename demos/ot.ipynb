{
 "cells": [
  {
   "cell_type": "code",
   "execution_count": 1,
   "metadata": {},
   "outputs": [],
   "source": [
    "import numpy as np\n",
    "import vtk\n",
    "\n",
    "from mcopt.morse_complex import MorseComplex\n",
    "from mcopt.morse_graph import MorseGraph\n",
    "\n",
    "%reload_ext autoreload\n",
    "%autoreload 2"
   ]
  },
  {
   "cell_type": "code",
   "execution_count": 2,
   "metadata": {},
   "outputs": [],
   "source": [
    "crit1 = vtk.vtkXMLPolyDataReader()\n",
    "crit1.SetFileName('../data/critical_points1.vtp')\n",
    "crit1.Update()\n",
    "\n",
    "sep1 = vtk.vtkXMLPolyDataReader()\n",
    "sep1.SetFileName('../data/separatrices1.vtp')\n",
    "sep1.Update()\n",
    "\n",
    "seg1 = vtk.vtkXMLUnstructuredGridReader()\n",
    "seg1.SetFileName('../data/segmentation1.vtu')\n",
    "seg1.Update()\n",
    "\n",
    "crit2 = vtk.vtkXMLPolyDataReader()\n",
    "crit2.SetFileName('../data/critical_points2.vtp')\n",
    "crit2.Update()\n",
    "\n",
    "sep2 = vtk.vtkXMLPolyDataReader()\n",
    "sep2.SetFileName('../data/separatrices2.vtp')\n",
    "sep2.Update()\n",
    "\n",
    "seg2 = vtk.vtkXMLUnstructuredGridReader()\n",
    "seg2.SetFileName('../data/segmentation2.vtu')\n",
    "seg2.Update()"
   ]
  },
  {
   "cell_type": "code",
   "execution_count": 3,
   "metadata": {},
   "outputs": [],
   "source": [
    "mc1 = MorseComplex(crit1, sep1, seg1)\n",
    "mc2 = MorseComplex(crit2, sep2, seg2)"
   ]
  },
  {
   "cell_type": "code",
   "execution_count": 5,
   "metadata": {},
   "outputs": [],
   "source": [
    "mg1 = MorseGraph.from_complex(mc1)"
   ]
  }
 ],
 "metadata": {
  "kernelspec": {
   "display_name": ".venv",
   "language": "python",
   "name": "python3"
  },
  "language_info": {
   "codemirror_mode": {
    "name": "ipython",
    "version": 3
   },
   "file_extension": ".py",
   "mimetype": "text/x-python",
   "name": "python",
   "nbconvert_exporter": "python",
   "pygments_lexer": "ipython3",
   "version": "3.10.7"
  },
  "orig_nbformat": 4,
  "vscode": {
   "interpreter": {
    "hash": "999d10837aeb591b085f0799d3c8b3f9c40f6a4b37eb4d79f4e43eea8b9dba8c"
   }
  }
 },
 "nbformat": 4,
 "nbformat_minor": 2
}
